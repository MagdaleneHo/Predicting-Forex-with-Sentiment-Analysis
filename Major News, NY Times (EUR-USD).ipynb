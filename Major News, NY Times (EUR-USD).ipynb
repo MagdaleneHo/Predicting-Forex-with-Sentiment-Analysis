{
 "cells": [
  {
   "cell_type": "markdown",
   "metadata": {},
   "source": [
    "# Prediction of Forex Movement with Sentiment Analysis "
   ]
  },
  {
   "cell_type": "markdown",
   "metadata": {},
   "source": [
    "## Modelling & Evaluation"
   ]
  },
  {
   "cell_type": "markdown",
   "metadata": {},
   "source": [
    "## Import packages"
   ]
  },
  {
   "cell_type": "code",
   "execution_count": 5,
   "metadata": {},
   "outputs": [],
   "source": [
    "# Packages / libraries\n",
    "import os #provides functions for interacting with the operating system\n",
    "import numpy as np \n",
    "np.set_printoptions(formatter={'float_kind':'{:f}'.format})\n",
    "import pandas as pd\n",
    "from matplotlib import pyplot as plt\n",
    "import seaborn as sn\n",
    "from sklearn.linear_model import LogisticRegression\n",
    "from sklearn.neighbors import KNeighborsClassifier\n",
    "from sklearn.tree import DecisionTreeClassifier\n",
    "from sklearn.naive_bayes import GaussianNB\n",
    "from sklearn import svm\n",
    "from sklearn.model_selection import KFold\n",
    "from sklearn.model_selection import train_test_split\n",
    "from sklearn.metrics import r2_score, explained_variance_score, confusion_matrix, accuracy_score, classification_report, log_loss,  mean_squared_error\n",
    "from math import sqrt\n",
    "%matplotlib inline\n",
    "from sklearn import metrics "
   ]
  },
  {
   "cell_type": "code",
   "execution_count": 4,
   "metadata": {},
   "outputs": [
    {
     "name": "stdout",
     "output_type": "stream",
     "text": [
      "(51, 9)\n"
     ]
    },
    {
     "data": {
      "text/html": [
       "<div>\n",
       "<style scoped>\n",
       "    .dataframe tbody tr th:only-of-type {\n",
       "        vertical-align: middle;\n",
       "    }\n",
       "\n",
       "    .dataframe tbody tr th {\n",
       "        vertical-align: top;\n",
       "    }\n",
       "\n",
       "    .dataframe thead th {\n",
       "        text-align: right;\n",
       "    }\n",
       "</style>\n",
       "<table border=\"1\" class=\"dataframe\">\n",
       "  <thead>\n",
       "    <tr style=\"text-align: right;\">\n",
       "      <th></th>\n",
       "      <th>date</th>\n",
       "      <th>open</th>\n",
       "      <th>high</th>\n",
       "      <th>low</th>\n",
       "      <th>close</th>\n",
       "      <th>binary_close</th>\n",
       "      <th>volume</th>\n",
       "      <th>score</th>\n",
       "      <th>binary_score</th>\n",
       "    </tr>\n",
       "  </thead>\n",
       "  <tbody>\n",
       "    <tr>\n",
       "      <th>0</th>\n",
       "      <td>4/1/2019</td>\n",
       "      <td>1.13901</td>\n",
       "      <td>1.14189</td>\n",
       "      <td>1.13456</td>\n",
       "      <td>1.13943</td>\n",
       "      <td>1</td>\n",
       "      <td>403759</td>\n",
       "      <td>0.220284</td>\n",
       "      <td>1</td>\n",
       "    </tr>\n",
       "    <tr>\n",
       "      <th>1</th>\n",
       "      <td>29/1/2019</td>\n",
       "      <td>1.14295</td>\n",
       "      <td>1.14501</td>\n",
       "      <td>1.14111</td>\n",
       "      <td>1.14348</td>\n",
       "      <td>1</td>\n",
       "      <td>424908</td>\n",
       "      <td>-0.354276</td>\n",
       "      <td>0</td>\n",
       "    </tr>\n",
       "    <tr>\n",
       "      <th>2</th>\n",
       "      <td>30/1/2019</td>\n",
       "      <td>1.14348</td>\n",
       "      <td>1.15016</td>\n",
       "      <td>1.14062</td>\n",
       "      <td>1.14853</td>\n",
       "      <td>1</td>\n",
       "      <td>431868</td>\n",
       "      <td>-0.618718</td>\n",
       "      <td>0</td>\n",
       "    </tr>\n",
       "    <tr>\n",
       "      <th>3</th>\n",
       "      <td>4/2/2019</td>\n",
       "      <td>1.14543</td>\n",
       "      <td>1.14603</td>\n",
       "      <td>1.14244</td>\n",
       "      <td>1.14349</td>\n",
       "      <td>0</td>\n",
       "      <td>367156</td>\n",
       "      <td>-0.245374</td>\n",
       "      <td>0</td>\n",
       "    </tr>\n",
       "    <tr>\n",
       "      <th>4</th>\n",
       "      <td>11/3/2019</td>\n",
       "      <td>1.12315</td>\n",
       "      <td>1.12738</td>\n",
       "      <td>1.12217</td>\n",
       "      <td>1.12591</td>\n",
       "      <td>1</td>\n",
       "      <td>323934</td>\n",
       "      <td>-0.216506</td>\n",
       "      <td>0</td>\n",
       "    </tr>\n",
       "  </tbody>\n",
       "</table>\n",
       "</div>"
      ],
      "text/plain": [
       "       date      open    high      low     close  binary_close  volume   \\\n",
       "0   4/1/2019  1.13901  1.14189  1.13456  1.13943             1   403759   \n",
       "1  29/1/2019  1.14295  1.14501  1.14111  1.14348             1   424908   \n",
       "2  30/1/2019  1.14348  1.15016  1.14062  1.14853             1   431868   \n",
       "3   4/2/2019  1.14543  1.14603  1.14244  1.14349             0   367156   \n",
       "4  11/3/2019  1.12315  1.12738  1.12217  1.12591             1   323934   \n",
       "\n",
       "      score  binary_score  \n",
       "0  0.220284             1  \n",
       "1 -0.354276             0  \n",
       "2 -0.618718             0  \n",
       "3 -0.245374             0  \n",
       "4 -0.216506             0  "
      ]
     },
     "execution_count": 4,
     "metadata": {},
     "output_type": "execute_result"
    }
   ],
   "source": [
    "MNSS = pd.read_csv('MNSS_final.csv')\n",
    "print(MNSS.shape)\n",
    "MNSS.head(5)"
   ]
  },
  {
   "cell_type": "markdown",
   "metadata": {},
   "source": [
    "## Sentence-based Sentiment Analysis "
   ]
  },
  {
   "cell_type": "code",
   "execution_count": 4,
   "metadata": {},
   "outputs": [
    {
     "name": "stdout",
     "output_type": "stream",
     "text": [
      "The Testing Accuracy is:  0.5454545454545454\n"
     ]
    }
   ],
   "source": [
    "# LOGISTIC REGRESSION\n",
    "\n",
    "MNSS = pd.read_csv('MNSS_final.csv')\n",
    "X = MNSS['score']\n",
    "X = X.values.reshape((-1, 1))\n",
    "y = MNSS['binary_close']\n",
    "X_train, X_test, y_train, y_test = train_test_split(X, y, test_size=0.2, random_state=1)\n",
    "log_reg = LogisticRegression(random_state=10, solver = 'lbfgs')\n",
    "log_reg.fit(X_train, y_train)\n",
    "log_reg.predict(X_train)\n",
    "y_pred = log_reg.predict(X_train)\n",
    "pred_proba = log_reg.predict_proba(X_train)\n",
    "print(\"The Testing Accuracy is: \", log_reg.score(X_test, y_test))"
   ]
  },
  {
   "cell_type": "code",
   "execution_count": 5,
   "metadata": {},
   "outputs": [
    {
     "name": "stdout",
     "output_type": "stream",
     "text": [
      "The Testing Accuracy is:  0.6363636363636364\n",
      "              precision    recall  f1-score   support\n",
      "\n",
      "           0       0.67      0.29      0.40        14\n",
      "           1       0.71      0.92      0.80        26\n",
      "\n",
      "    accuracy                           0.70        40\n",
      "   macro avg       0.69      0.60      0.60        40\n",
      "weighted avg       0.69      0.70      0.66        40\n",
      "\n",
      "[[ 4 10]\n",
      " [ 2 24]]\n"
     ]
    }
   ],
   "source": [
    "# SVM (kernel='rbf')\n",
    "MNSS = pd.read_csv('MNSS_final.csv')\n",
    "X = MNSS['score']\n",
    "X = X.values.reshape((-1, 1))\n",
    "y = MNSS['binary_close']\n",
    "X_train, X_test, y_train, y_test = train_test_split(X, y, test_size=0.2, random_state=1)\n",
    "svm_rbf = svm.SVC(kernel='rbf')\n",
    "svm_rbf.fit(X_train, y_train)\n",
    "svm_rbf.predict(X_train)\n",
    "y_pred = svm_rbf.predict(X_train)\n",
    "print(\"The Testing Accuracy is: \", svm_rbf.score(X_test, y_test))\n",
    "print(classification_report(y_train, y_pred))\n",
    "print(confusion_matrix(y_train, y_pred))"
   ]
  },
  {
   "cell_type": "code",
   "execution_count": 6,
   "metadata": {},
   "outputs": [
    {
     "name": "stdout",
     "output_type": "stream",
     "text": [
      "The Testing Accuracy is:  0.5454545454545454\n"
     ]
    }
   ],
   "source": [
    "# SVM (kernel='poly')\n",
    "MNSS = pd.read_csv('MNSS_final.csv')\n",
    "X = MNSS['score']\n",
    "X = X.values.reshape((-1, 1))\n",
    "y = MNSS['binary_close']\n",
    "X_train, X_test, y_train, y_test = train_test_split(X, y, test_size=0.2, random_state=1)\n",
    "svm_poly = svm.SVC(kernel='poly')\n",
    "svm_poly.fit(X_train, y_train)\n",
    "svm_poly.predict(X_train)\n",
    "y_pred = svm_poly.predict(X_train)\n",
    "print(\"The Testing Accuracy is: \", svm_poly.score(X_test, y_test))"
   ]
  },
  {
   "cell_type": "code",
   "execution_count": 8,
   "metadata": {},
   "outputs": [
    {
     "name": "stdout",
     "output_type": "stream",
     "text": [
      "The Testing Accuracy is:  0.5454545454545454\n"
     ]
    }
   ],
   "source": [
    "# SVM (kernel='linear')\n",
    "MNSS = pd.read_csv('MNSS_final.csv')\n",
    "X = MNSS['score']\n",
    "X = X.values.reshape((-1, 1))\n",
    "y = MNSS['binary_close']\n",
    "X_train, X_test, y_train, y_test = train_test_split(X, y, test_size=0.2, random_state=1)\n",
    "svm_linear = svm.SVC(kernel='linear')\n",
    "svm_linear.fit(X_train, y_train)\n",
    "svm_linear.predict(X_train)\n",
    "y_pred = svm_linear.predict(X_train)\n",
    "print(\"The Testing Accuracy is: \", svm_linear.score(X_test, y_test))"
   ]
  },
  {
   "cell_type": "code",
   "execution_count": 10,
   "metadata": {},
   "outputs": [
    {
     "name": "stdout",
     "output_type": "stream",
     "text": [
      "The Testing Accuracy is:  0.6363636363636364\n"
     ]
    }
   ],
   "source": [
    "# DECISION TREE\n",
    "\n",
    "MNSS = pd.read_csv('MNSS_final.csv')\n",
    "X = MNSS['score']\n",
    "X = X.values.reshape((-1, 1))\n",
    "y = MNSS['binary_close']\n",
    "X_train, X_test, y_train, y_test = train_test_split(X, y, random_state=1,test_size=0.2)\n",
    "dt =  DecisionTreeClassifier()\n",
    "dt =  dt.fit(X_train,y_train)\n",
    "y_pred = dt.predict(X_test)\n",
    "print(\"The Testing Accuracy is: \",metrics.accuracy_score(y_test,y_pred))"
   ]
  },
  {
   "cell_type": "code",
   "execution_count": 7,
   "metadata": {},
   "outputs": [
    {
     "name": "stdout",
     "output_type": "stream",
     "text": [
      "The Testing Accuracy is:  0.6363636363636364\n"
     ]
    }
   ],
   "source": [
    "# K NEAREST NEIGHBOURS\n",
    "\n",
    "MNSS = pd.read_csv('MNSS_final.csv')\n",
    "X = MNSS['score']\n",
    "X = X.values.reshape((-1, 1))\n",
    "y = MNSS['binary_close']\n",
    "X_train, X_test, y_train, y_test = train_test_split(X, y, random_state=1,test_size=0.2)\n",
    "knn = KNeighborsClassifier(n_neighbors = 5 )\n",
    "knn.fit(X_train, y_train)\n",
    "y_predict = knn.predict(X_test)\n",
    "print(\"The Testing Accuracy is: \",knn.score(X_test, y_test))"
   ]
  },
  {
   "cell_type": "code",
   "execution_count": 3,
   "metadata": {},
   "outputs": [
    {
     "data": {
      "image/png": "[encoded data removed]",
      "text/plain": [
       "<Figure size 432x288 with 1 Axes>"
      ]
     },
     "metadata": {
      "needs_background": "light"
     },
     "output_type": "display_data"
    }
   ],
   "source": [
    "MNSS = pd.read_csv('MNSS_final.csv')\n",
    "X = MNSS['score']\n",
    "X = X.values.reshape((-1, 1))\n",
    "y = MNSS['binary_close']\n",
    "X_train, X_test, y_train, y_test = train_test_split(X, y, random_state=0)\n",
    "# K is user specified , how do we know which K is the best to use ? \n",
    "k_range = range(1,20)\n",
    "scores = []\n",
    "\n",
    "for k in k_range:\n",
    "    knn = KNeighborsClassifier(n_neighbors = k)\n",
    "    knn.fit(X_train, y_train)\n",
    "    scores.append(knn.score(X_test, y_test))\n",
    "\n",
    "plt.figure()\n",
    "plt.xlabel('k')\n",
    "plt.ylabel('accuracy')\n",
    "plt.scatter(k_range, scores)\n",
    "plt.xticks([0,5,10,15,20]);"
   ]
  },
  {
   "cell_type": "code",
   "execution_count": 8,
   "metadata": {},
   "outputs": [
    {
     "name": "stdout",
     "output_type": "stream",
     "text": [
      "The Testing Accuracy is:  0.6363636363636364\n"
     ]
    }
   ],
   "source": [
    "# GAUSSIAN NAIVE BAYES\n",
    "\n",
    "MNSS = pd.read_csv('MNSS_final.csv')\n",
    "X = MNSS['score']\n",
    "X = X.values.reshape((-1, 1))\n",
    "y = MNSS['binary_close']\n",
    "X_train, X_test, y_train, y_test = train_test_split(X, y, test_size=0.2, random_state=1)\n",
    "gnb = GaussianNB()\n",
    "gnb.fit(X_train, y_train)\n",
    "gnb.predict(X_train)\n",
    "y_pred = gnb.predict(X_train)\n",
    "print(\"The Testing Accuracy is: \", gnb.score(X_test, y_test))"
   ]
  },
  {
   "cell_type": "markdown",
   "metadata": {},
   "source": [
    "## Word-based Sentiment Analysis"
   ]
  },
  {
   "cell_type": "code",
   "execution_count": 11,
   "metadata": {},
   "outputs": [
    {
     "name": "stdout",
     "output_type": "stream",
     "text": [
      "The Testing Accuracy is:  0.7\n"
     ]
    }
   ],
   "source": [
    "# LOGISTIC REGRESSION\n",
    "\n",
    "MNWS = pd.read_csv('MNWS_final.csv')\n",
    "X = MNWS['score']\n",
    "X = X.values.reshape((-1, 1))\n",
    "y = MNWS['binary_close']\n",
    "X_train, X_test, y_train, y_test = train_test_split(X, y, test_size=0.2, random_state=1)\n",
    "log_reg = LogisticRegression(random_state=10, solver = 'lbfgs')\n",
    "log_reg.fit(X_train, y_train)\n",
    "log_reg.predict(X_train)\n",
    "y_pred = log_reg.predict(X_train)\n",
    "pred_proba = log_reg.predict_proba(X_train)\n",
    "print(\"The Testing Accuracy is: \", log_reg.score(X_test, y_test))"
   ]
  },
  {
   "cell_type": "code",
   "execution_count": 8,
   "metadata": {},
   "outputs": [
    {
     "ename": "TypeError",
     "evalue": "'module' object is not callable",
     "output_type": "error",
     "traceback": [
      "\u001b[1;31m---------------------------------------------------------------------------\u001b[0m",
      "\u001b[1;31mTypeError\u001b[0m                                 Traceback (most recent call last)",
      "\u001b[1;32m<ipython-input-8-b88067e674d3>\u001b[0m in \u001b[0;36m<module>\u001b[1;34m\u001b[0m\n\u001b[0;32m     11\u001b[0m \u001b[1;31m# Logistic Reg CV\u001b[0m\u001b[1;33m\u001b[0m\u001b[1;33m\u001b[0m\u001b[1;33m\u001b[0m\u001b[0m\n\u001b[0;32m     12\u001b[0m \u001b[0mC_List\u001b[0m \u001b[1;33m=\u001b[0m \u001b[0mnp\u001b[0m\u001b[1;33m.\u001b[0m\u001b[0mgeomspace\u001b[0m\u001b[1;33m(\u001b[0m\u001b[1;36m1e-5\u001b[0m\u001b[1;33m,\u001b[0m \u001b[1;36m1e5\u001b[0m\u001b[1;33m,\u001b[0m \u001b[0mnum\u001b[0m\u001b[1;33m=\u001b[0m\u001b[1;36m20\u001b[0m\u001b[1;33m)\u001b[0m\u001b[1;33m\u001b[0m\u001b[1;33m\u001b[0m\u001b[0m\n\u001b[1;32m---> 13\u001b[1;33m \u001b[0msvm_rbf\u001b[0m \u001b[1;33m=\u001b[0m \u001b[0msvm\u001b[0m\u001b[1;33m(\u001b[0m\u001b[0mkernel\u001b[0m\u001b[1;33m=\u001b[0m\u001b[1;34m'rbf'\u001b[0m\u001b[1;33m)\u001b[0m\u001b[1;33m\u001b[0m\u001b[1;33m\u001b[0m\u001b[0m\n\u001b[0m\u001b[0;32m     14\u001b[0m \u001b[0msvm_rbf\u001b[0m\u001b[1;33m.\u001b[0m\u001b[0mfit\u001b[0m\u001b[1;33m(\u001b[0m\u001b[0mX_train\u001b[0m\u001b[1;33m,\u001b[0m \u001b[0my_train\u001b[0m\u001b[1;33m)\u001b[0m\u001b[1;33m\u001b[0m\u001b[1;33m\u001b[0m\u001b[0m\n\u001b[0;32m     15\u001b[0m \u001b[0mprint\u001b[0m\u001b[1;33m(\u001b[0m\u001b[1;34m\"The CA is:\"\u001b[0m\u001b[1;33m,\u001b[0m \u001b[0msvm_rbf\u001b[0m\u001b[1;33m.\u001b[0m\u001b[0mscore\u001b[0m\u001b[1;33m(\u001b[0m\u001b[0mX_test\u001b[0m\u001b[1;33m,\u001b[0m \u001b[0my_test\u001b[0m\u001b[1;33m)\u001b[0m\u001b[1;33m)\u001b[0m\u001b[1;33m\u001b[0m\u001b[1;33m\u001b[0m\u001b[0m\n",
      "\u001b[1;31mTypeError\u001b[0m: 'module' object is not callable"
     ]
    }
   ],
   "source": [
    "MNWS = pd.read_csv('MNWS_final.csv')\n",
    "X = MNWS['score']\n",
    "X = X.values.reshape((-1, 1))\n",
    "y = MNWS['binary_close']\n",
    "X_train, X_test, y_train, y_test = train_test_split(X, y, test_size=0.2, random_state=1)\n",
    "\n",
    "#Hyper Parameter tuning to get the best C\n",
    "\n",
    "kf = KFold(n_splits=3, random_state=0, shuffle=True)\n",
    "\n",
    "# Logistic Reg CV\n",
    "C_List = np.geomspace(1e-5, 1e5, num=20)\n",
    "svm_rbf = svm(kernel='rbf')\n",
    "svm_rbf.fit(X_train, y_train)\n",
    "print(\"The CA is:\", svm_rbf.score(X_test, y_test))\n",
    "#pred_proba_t = svm_rbf.predict_proba(X_test)\n",
    "#log_loss3 = log_loss(y_test, pred_proba_t)\n",
    "\n",
    "print(\"The optimal C parameter is: \", svm_rbf.C_)"
   ]
  },
  {
   "cell_type": "code",
   "execution_count": 12,
   "metadata": {},
   "outputs": [
    {
     "name": "stdout",
     "output_type": "stream",
     "text": [
      "The Testing Accuracy is:  0.6\n"
     ]
    }
   ],
   "source": [
    "# SVM (kernel='rbf')\n",
    "MNWS = pd.read_csv('MNWS_final.csv')\n",
    "X = MNWS['score']\n",
    "X = X.values.reshape((-1, 1))\n",
    "y = MNWS['binary_close']\n",
    "X_train, X_test, y_train, y_test = train_test_split(X, y, test_size=0.2, random_state=1)\n",
    "svm_rbf = svm.SVC(kernel='rbf')\n",
    "svm_rbf.fit(X_train, y_train)\n",
    "svm_rbf.predict(X_train)\n",
    "y_pred = svm_rbf.predict(X_train)\n",
    "print(\"The Testing Accuracy is: \", svm_rbf.score(X_test, y_test))"
   ]
  },
  {
   "cell_type": "code",
   "execution_count": 11,
   "metadata": {},
   "outputs": [
    {
     "name": "stdout",
     "output_type": "stream",
     "text": [
      "The Testing Accuracy is:  0.6\n"
     ]
    }
   ],
   "source": [
    "# SVM (kernel='poly')\n",
    "MNWS = pd.read_csv('MNWS_final.csv')\n",
    "X = MNWS['score']\n",
    "X = X.values.reshape((-1, 1))\n",
    "y = MNWS['binary_close']\n",
    "X_train, X_test, y_train, y_test = train_test_split(X, y, test_size=0.2, random_state=1)\n",
    "svm_poly = svm.SVC(kernel='poly')\n",
    "svm_poly.fit(X_train, y_train)\n",
    "svm_poly.predict(X_train)\n",
    "y_pred = svm_poly.predict(X_train)\n",
    "print(\"The Testing Accuracy is: \", svm_poly.score(X_test, y_test))"
   ]
  },
  {
   "cell_type": "code",
   "execution_count": 7,
   "metadata": {},
   "outputs": [
    {
     "name": "stdout",
     "output_type": "stream",
     "text": [
      "The Testing Accuracy is:  0.8\n",
      "              precision    recall  f1-score   support\n",
      "\n",
      "           0       0.00      0.00      0.00        14\n",
      "           1       0.62      1.00      0.77        23\n",
      "\n",
      "    accuracy                           0.62        37\n",
      "   macro avg       0.31      0.50      0.38        37\n",
      "weighted avg       0.39      0.62      0.48        37\n",
      "\n",
      "[[ 0 14]\n",
      " [ 0 23]]\n"
     ]
    },
    {
     "name": "stderr",
     "output_type": "stream",
     "text": [
      "C:\\Users\\bluec\\anaconda3\\lib\\site-packages\\sklearn\\metrics\\_classification.py:1221: UndefinedMetricWarning: Precision and F-score are ill-defined and being set to 0.0 in labels with no predicted samples. Use `zero_division` parameter to control this behavior.\n",
      "  _warn_prf(average, modifier, msg_start, len(result))\n"
     ]
    }
   ],
   "source": [
    "# SVM (kernel='linear')\n",
    "MNWS = pd.read_csv('MNWS_final.csv')\n",
    "X = MNWS['score']\n",
    "X = X.values.reshape((-1, 1))\n",
    "y = MNWS['binary_close']\n",
    "X_train, X_test, y_train, y_test = train_test_split(X, y, test_size=0.2, random_state=1)\n",
    "svm_linear = svm.SVC(kernel='linear')\n",
    "svm_linear.fit(X_train, y_train)\n",
    "svm_linear.predict(X_train)\n",
    "y_pred = svm_linear.predict(X_train)\n",
    "print(\"The Testing Accuracy is: \", svm_linear.score(X_test, y_test))\n",
    "print(classification_report(y_train, y_pred))\n",
    "print(confusion_matrix(y_train, y_pred))"
   ]
  },
  {
   "cell_type": "code",
   "execution_count": 17,
   "metadata": {},
   "outputs": [
    {
     "name": "stdout",
     "output_type": "stream",
     "text": [
      "The Testing Accuracy is:  0.4\n"
     ]
    }
   ],
   "source": [
    "# DECISION TREE\n",
    "MNWS = pd.read_csv('MNWS_final.csv')\n",
    "X = MNWS['score']\n",
    "X = X.values.reshape((-1, 1))\n",
    "y = MNWS['binary_close']\n",
    "X_train, X_test, y_train, y_test = train_test_split(X, y, random_state=1,test_size=0.2)\n",
    "dt =  DecisionTreeClassifier()\n",
    "dt =  dt.fit(X_train,y_train)\n",
    "y_pred = dt.predict(X_test)\n",
    "print(\"The Testing Accuracy is: \",metrics.accuracy_score(y_test,y_pred))"
   ]
  },
  {
   "cell_type": "code",
   "execution_count": 9,
   "metadata": {},
   "outputs": [
    {
     "name": "stdout",
     "output_type": "stream",
     "text": [
      "The Testing Accuracy is:  0.5\n"
     ]
    }
   ],
   "source": [
    "# K NEAREST NEIGHBOURS\n",
    "\n",
    "MNWS = pd.read_csv('MNWS_final.csv')\n",
    "X = MNWS['score']\n",
    "X = X.values.reshape((-1, 1))\n",
    "y = MNWS['binary_close']\n",
    "X_train, X_test, y_train, y_test = train_test_split(X, y, random_state=1,test_size=0.2)\n",
    "knn = KNeighborsClassifier(n_neighbors = 5 )\n",
    "knn.fit(X_train, y_train)\n",
    "y_predict = knn.predict(X_test)\n",
    "print(\"The Testing Accuracy is: \",knn.score(X_test, y_test))"
   ]
  },
  {
   "cell_type": "code",
   "execution_count": 10,
   "metadata": {},
   "outputs": [
    {
     "name": "stdout",
     "output_type": "stream",
     "text": [
      "The Testing Accuracy is:  0.6\n"
     ]
    }
   ],
   "source": [
    "# GAUSSIAN NAIVE BAYES\n",
    "\n",
    "MNWS = pd.read_csv('MNWS_final.csv')\n",
    "X = MNWS['score']\n",
    "X = X.values.reshape((-1, 1))\n",
    "y = MNWS['binary_close']\n",
    "X_train, X_test, y_train, y_test = train_test_split(X, y, test_size=0.2, random_state=1)\n",
    "gnb = GaussianNB()\n",
    "gnb.fit(X_train, y_train)\n",
    "gnb.predict(X_train)\n",
    "y_pred = gnb.predict(X_train)\n",
    "print(\"The Testing Accuracy is: \", gnb.score(X_test, y_test))"
   ]
  },
  {
   "cell_type": "markdown",
   "metadata": {},
   "source": [
    "## Objective 2"
   ]
  },
  {
   "cell_type": "code",
   "execution_count": 25,
   "metadata": {},
   "outputs": [
    {
     "name": "stdout",
     "output_type": "stream",
     "text": [
      "The Testing Accuracy is:  0.4\n",
      "              precision    recall  f1-score   support\n",
      "\n",
      "           0       0.00      0.00      0.00         5\n",
      "           1       0.74      1.00      0.85        14\n",
      "\n",
      "    accuracy                           0.74        19\n",
      "   macro avg       0.37      0.50      0.42        19\n",
      "weighted avg       0.54      0.74      0.63        19\n",
      "\n",
      "[[ 0  5]\n",
      " [ 0 14]]\n"
     ]
    }
   ],
   "source": [
    "# Positive scores using SVM (kernel='rbf')\n",
    "\n",
    "wpositive = pd.read_csv('wpositive.csv')\n",
    "X = wpositive['score']\n",
    "X = X.values.reshape((-1, 1))\n",
    "y = wpositive['binary_close']\n",
    "X_train, X_test, y_train, y_test = train_test_split(X, y, test_size=0.2, random_state=1)\n",
    "svm_rbf = svm.SVC(kernel='linear')\n",
    "svm_rbf.fit(X_train, y_train)\n",
    "svm_rbf.predict(X_train)\n",
    "y_pred = svm_rbf.predict(X_train)\n",
    "print(\"The Testing Accuracy is: \", svm_rbf.score(X_test, y_test))\n",
    "print(classification_report(y_train, y_pred))\n",
    "print(confusion_matrix(y_train, y_pred))\n",
    "\n",
    "# all three (rbf, poly, linear) returns the same result for both accuracy and classfication report"
   ]
  },
  {
   "cell_type": "code",
   "execution_count": 22,
   "metadata": {},
   "outputs": [
    {
     "name": "stdout",
     "output_type": "stream",
     "text": [
      "The Testing Accuracy is:  0.8\n",
      "              precision    recall  f1-score   support\n",
      "\n",
      "           0       0.50      0.29      0.36         7\n",
      "           1       0.64      0.82      0.72        11\n",
      "\n",
      "    accuracy                           0.61        18\n",
      "   macro avg       0.57      0.55      0.54        18\n",
      "weighted avg       0.59      0.61      0.58        18\n",
      "\n",
      "[[2 5]\n",
      " [2 9]]\n"
     ]
    }
   ],
   "source": [
    "# Negative scores using SVM (kernel='rbf')\n",
    "\n",
    "wnegative = pd.read_csv('wnegative.csv')\n",
    "X = wnegative['score']\n",
    "X = X.values.reshape((-1, 1))\n",
    "y = wnegative['binary_close']\n",
    "X_train, X_test, y_train, y_test = train_test_split(X, y, test_size=0.2, random_state=1)\n",
    "svm_rbf = svm.SVC(kernel='rbf')\n",
    "svm_rbf.fit(X_train, y_train)\n",
    "svm_rbf.predict(X_train)\n",
    "y_pred = svm_rbf.predict(X_train)\n",
    "print(\"The Testing Accuracy is: \", regr.score(X_test, y_test))\n",
    "print(classification_report(y_train, y_pred))\n",
    "print(confusion_matrix(y_train, y_pred))\n",
    "\n",
    "#all three rbf, linear and poly returned the same accuracy, rbf is chose due to the availability in classification report.\n",
    "#When true positive + false positive == 0, precision returns 0 "
   ]
  },
  {
   "cell_type": "code",
   "execution_count": 18,
   "metadata": {},
   "outputs": [
    {
     "data": {
      "text/plain": [
       "'C:\\\\Users\\\\bluec\\\\desktop'"
      ]
     },
     "execution_count": 18,
     "metadata": {},
     "output_type": "execute_result"
    }
   ],
   "source": [
    "%pwd "
   ]
  },
  {
   "cell_type": "code",
   "execution_count": 1,
   "metadata": {},
   "outputs": [
    {
     "name": "stdout",
     "output_type": "stream",
     "text": [
      "C:\\Users\\bluec\\desktop\n"
     ]
    }
   ],
   "source": [
    "%cd C:\\\\Users\\\\bluec\\\\desktop"
   ]
  },
  {
   "cell_type": "code",
   "execution_count": null,
   "metadata": {},
   "outputs": [],
   "source": []
  }
 ],
 "metadata": {
  "kernelspec": {
   "display_name": "Python 3",
   "language": "python",
   "name": "python3"
  },
  "language_info": {
   "codemirror_mode": {
    "name": "ipython",
    "version": 3
   },
   "file_extension": ".py",
   "mimetype": "text/x-python",
   "name": "python",
   "nbconvert_exporter": "python",
   "pygments_lexer": "ipython3",
   "version": "3.8.5"
  }
 },
 "nbformat": 4,
 "nbformat_minor": 4
}
